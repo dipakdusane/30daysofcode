{
 "cells": [
  {
   "cell_type": "markdown",
   "metadata": {},
   "source": [
    "You are given a string S . Suppose a character 'c' occurs consecutively *X* times in the string. Replace these consecutive occurrences of the character 'c' with *(X,c)* in the string.\n",
    "\n",
    "For a better understanding of the problem, check the explanation.\n",
    "\n",
    "**Input Format**\n",
    "- A single line of input consisting of the string *S*\n",
    "\n",
    "**Output Format**\n",
    "- A single line of output consisting of the modified string.\n",
    "\n",
    "**Constraints** \n",
    "- All the characters of *S* denote integers between 0 and 9.\n",
    "\n",
    "1 <= | S | <= 10^4\n",
    "\n",
    "**Sample Input**\n",
    "\n",
    "1222311\n",
    "\n",
    "**Sample Output**\n",
    "\n",
    "(1, 1) (3, 2) (1, 3) (2, 1)\n",
    "\n",
    "\n",
    "**Explanation**\n",
    "First, the character 1 occurs only once. It is replaced by (1, 1). Then the character 2 occurs three times, and it is replaced by (3 ,2) and so on.\n",
    "Also, note the single space within each compression and between the compressions."
   ]
  },
  {
   "cell_type": "code",
   "execution_count": 2,
   "metadata": {},
   "outputs": [
    {
     "name": "stdout",
     "output_type": "stream",
     "text": [
      "12223311\n",
      "(1, 1), (3, 2), (2, 3), (2, 1)\n"
     ]
    }
   ],
   "source": [
    "import sys \n",
    "from itertools import groupby\n",
    "\n",
    "data = input()\n",
    "\n",
    "groups = []\n",
    "for k, g in groupby(data, None):\n",
    "    groups.append(list(g))      # Store group iterator as a list\n",
    "\n",
    "output = []\n",
    "for lst in groups:\n",
    "\ttpl = (len(lst),int(lst[0]))\n",
    "\toutput.append(tpl)\n",
    "\n",
    "print (str(output).strip('[]'))"
   ]
  },
  {
   "cell_type": "code",
   "execution_count": null,
   "metadata": {},
   "outputs": [],
   "source": []
  }
 ],
 "metadata": {
  "kernelspec": {
   "display_name": "Python 3",
   "language": "python",
   "name": "python3"
  },
  "language_info": {
   "codemirror_mode": {
    "name": "ipython",
    "version": 3
   },
   "file_extension": ".py",
   "mimetype": "text/x-python",
   "name": "python",
   "nbconvert_exporter": "python",
   "pygments_lexer": "ipython3",
   "version": "3.7.1"
  }
 },
 "nbformat": 4,
 "nbformat_minor": 2
}
